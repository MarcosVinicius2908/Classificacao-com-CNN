{
  "cells": [
    {
      "cell_type": "markdown",
      "metadata": {
        "id": "Uv8RagJdd6wD"
      },
      "source": [
        "\n",
        "\n",
        "\n",
        "*  Sem dropout, zoom em 0.2 e com 100 épocas: 82,37%\n",
        "*   Dropout 0.5, zoom 0.4, 150 epocas: 81%\n",
        "\n",
        "\n",
        "*   Mais camadas adicionadas, convolução, pooling e densa:\n",
        "*  \n",
        "\n",
        "\n",
        "\n"
      ]
    },
    {
      "cell_type": "code",
      "execution_count": 34,
      "metadata": {
        "id": "m4640ub7tB8n"
      },
      "outputs": [],
      "source": [
        "import cv2\n",
        "import numpy as np\n",
        "import tensorflow as tf\n",
        "from google.colab import drive\n",
        "from google.colab.patches import cv2_imshow\n",
        "import seaborn as sns\n",
        "import matplotlib.pyplot as plt\n",
        "import tensorflow as tf\n",
        "from tensorflow.keras.models import Sequential\n",
        "from tensorflow.keras.layers import Conv2D, MaxPool2D, Flatten, Dense, Dropout\n",
        "from tensorflow.keras.preprocessing.image import ImageDataGenerator\n",
        "import os"
      ]
    },
    {
      "cell_type": "code",
      "execution_count": 35,
      "metadata": {
        "colab": {
          "base_uri": "https://localhost:8080/"
        },
        "id": "tSRqRssltMK8",
        "outputId": "fa5664f7-e049-489f-ff52-70ec88de98b7"
      },
      "outputs": [
        {
          "output_type": "stream",
          "name": "stdout",
          "text": [
            "Requirement already satisfied: tensorflow in /usr/local/lib/python3.10/dist-packages (2.15.0)\n",
            "Requirement already satisfied: absl-py>=1.0.0 in /usr/local/lib/python3.10/dist-packages (from tensorflow) (1.4.0)\n",
            "Requirement already satisfied: astunparse>=1.6.0 in /usr/local/lib/python3.10/dist-packages (from tensorflow) (1.6.3)\n",
            "Requirement already satisfied: flatbuffers>=23.5.26 in /usr/local/lib/python3.10/dist-packages (from tensorflow) (23.5.26)\n",
            "Requirement already satisfied: gast!=0.5.0,!=0.5.1,!=0.5.2,>=0.2.1 in /usr/local/lib/python3.10/dist-packages (from tensorflow) (0.5.4)\n",
            "Requirement already satisfied: google-pasta>=0.1.1 in /usr/local/lib/python3.10/dist-packages (from tensorflow) (0.2.0)\n",
            "Requirement already satisfied: h5py>=2.9.0 in /usr/local/lib/python3.10/dist-packages (from tensorflow) (3.9.0)\n",
            "Requirement already satisfied: libclang>=13.0.0 in /usr/local/lib/python3.10/dist-packages (from tensorflow) (16.0.6)\n",
            "Requirement already satisfied: ml-dtypes~=0.2.0 in /usr/local/lib/python3.10/dist-packages (from tensorflow) (0.2.0)\n",
            "Requirement already satisfied: numpy<2.0.0,>=1.23.5 in /usr/local/lib/python3.10/dist-packages (from tensorflow) (1.23.5)\n",
            "Requirement already satisfied: opt-einsum>=2.3.2 in /usr/local/lib/python3.10/dist-packages (from tensorflow) (3.3.0)\n",
            "Requirement already satisfied: packaging in /usr/local/lib/python3.10/dist-packages (from tensorflow) (23.2)\n",
            "Requirement already satisfied: protobuf!=4.21.0,!=4.21.1,!=4.21.2,!=4.21.3,!=4.21.4,!=4.21.5,<5.0.0dev,>=3.20.3 in /usr/local/lib/python3.10/dist-packages (from tensorflow) (3.20.3)\n",
            "Requirement already satisfied: setuptools in /usr/local/lib/python3.10/dist-packages (from tensorflow) (67.7.2)\n",
            "Requirement already satisfied: six>=1.12.0 in /usr/local/lib/python3.10/dist-packages (from tensorflow) (1.16.0)\n",
            "Requirement already satisfied: termcolor>=1.1.0 in /usr/local/lib/python3.10/dist-packages (from tensorflow) (2.4.0)\n",
            "Requirement already satisfied: typing-extensions>=3.6.6 in /usr/local/lib/python3.10/dist-packages (from tensorflow) (4.5.0)\n",
            "Requirement already satisfied: wrapt<1.15,>=1.11.0 in /usr/local/lib/python3.10/dist-packages (from tensorflow) (1.14.1)\n",
            "Requirement already satisfied: tensorflow-io-gcs-filesystem>=0.23.1 in /usr/local/lib/python3.10/dist-packages (from tensorflow) (0.34.0)\n",
            "Requirement already satisfied: grpcio<2.0,>=1.24.3 in /usr/local/lib/python3.10/dist-packages (from tensorflow) (1.60.0)\n",
            "Requirement already satisfied: tensorboard<2.16,>=2.15 in /usr/local/lib/python3.10/dist-packages (from tensorflow) (2.15.1)\n",
            "Requirement already satisfied: tensorflow-estimator<2.16,>=2.15.0 in /usr/local/lib/python3.10/dist-packages (from tensorflow) (2.15.0)\n",
            "Requirement already satisfied: keras<2.16,>=2.15.0 in /usr/local/lib/python3.10/dist-packages (from tensorflow) (2.15.0)\n",
            "Requirement already satisfied: wheel<1.0,>=0.23.0 in /usr/local/lib/python3.10/dist-packages (from astunparse>=1.6.0->tensorflow) (0.42.0)\n",
            "Requirement already satisfied: google-auth<3,>=1.6.3 in /usr/local/lib/python3.10/dist-packages (from tensorboard<2.16,>=2.15->tensorflow) (2.17.3)\n",
            "Requirement already satisfied: google-auth-oauthlib<2,>=0.5 in /usr/local/lib/python3.10/dist-packages (from tensorboard<2.16,>=2.15->tensorflow) (1.2.0)\n",
            "Requirement already satisfied: markdown>=2.6.8 in /usr/local/lib/python3.10/dist-packages (from tensorboard<2.16,>=2.15->tensorflow) (3.5.1)\n",
            "Requirement already satisfied: requests<3,>=2.21.0 in /usr/local/lib/python3.10/dist-packages (from tensorboard<2.16,>=2.15->tensorflow) (2.31.0)\n",
            "Requirement already satisfied: tensorboard-data-server<0.8.0,>=0.7.0 in /usr/local/lib/python3.10/dist-packages (from tensorboard<2.16,>=2.15->tensorflow) (0.7.2)\n",
            "Requirement already satisfied: werkzeug>=1.0.1 in /usr/local/lib/python3.10/dist-packages (from tensorboard<2.16,>=2.15->tensorflow) (3.0.1)\n",
            "Requirement already satisfied: cachetools<6.0,>=2.0.0 in /usr/local/lib/python3.10/dist-packages (from google-auth<3,>=1.6.3->tensorboard<2.16,>=2.15->tensorflow) (5.3.2)\n",
            "Requirement already satisfied: pyasn1-modules>=0.2.1 in /usr/local/lib/python3.10/dist-packages (from google-auth<3,>=1.6.3->tensorboard<2.16,>=2.15->tensorflow) (0.3.0)\n",
            "Requirement already satisfied: rsa<5,>=3.1.4 in /usr/local/lib/python3.10/dist-packages (from google-auth<3,>=1.6.3->tensorboard<2.16,>=2.15->tensorflow) (4.9)\n",
            "Requirement already satisfied: requests-oauthlib>=0.7.0 in /usr/local/lib/python3.10/dist-packages (from google-auth-oauthlib<2,>=0.5->tensorboard<2.16,>=2.15->tensorflow) (1.3.1)\n",
            "Requirement already satisfied: charset-normalizer<4,>=2 in /usr/local/lib/python3.10/dist-packages (from requests<3,>=2.21.0->tensorboard<2.16,>=2.15->tensorflow) (3.3.2)\n",
            "Requirement already satisfied: idna<4,>=2.5 in /usr/local/lib/python3.10/dist-packages (from requests<3,>=2.21.0->tensorboard<2.16,>=2.15->tensorflow) (3.6)\n",
            "Requirement already satisfied: urllib3<3,>=1.21.1 in /usr/local/lib/python3.10/dist-packages (from requests<3,>=2.21.0->tensorboard<2.16,>=2.15->tensorflow) (2.0.7)\n",
            "Requirement already satisfied: certifi>=2017.4.17 in /usr/local/lib/python3.10/dist-packages (from requests<3,>=2.21.0->tensorboard<2.16,>=2.15->tensorflow) (2023.11.17)\n",
            "Requirement already satisfied: MarkupSafe>=2.1.1 in /usr/local/lib/python3.10/dist-packages (from werkzeug>=1.0.1->tensorboard<2.16,>=2.15->tensorflow) (2.1.3)\n",
            "Requirement already satisfied: pyasn1<0.6.0,>=0.4.6 in /usr/local/lib/python3.10/dist-packages (from pyasn1-modules>=0.2.1->google-auth<3,>=1.6.3->tensorboard<2.16,>=2.15->tensorflow) (0.5.1)\n",
            "Requirement already satisfied: oauthlib>=3.0.0 in /usr/local/lib/python3.10/dist-packages (from requests-oauthlib>=0.7.0->google-auth-oauthlib<2,>=0.5->tensorboard<2.16,>=2.15->tensorflow) (3.2.2)\n"
          ]
        }
      ],
      "source": [
        "!pip install tensorflow"
      ]
    },
    {
      "cell_type": "code",
      "execution_count": 36,
      "metadata": {
        "colab": {
          "base_uri": "https://localhost:8080/"
        },
        "id": "XWv7900ftO2j",
        "outputId": "6e710936-b19c-40c7-ab6c-1feed543ff78"
      },
      "outputs": [
        {
          "output_type": "stream",
          "name": "stdout",
          "text": [
            "Drive already mounted at /content/drive; to attempt to forcibly remount, call drive.mount(\"/content/drive\", force_remount=True).\n"
          ]
        }
      ],
      "source": [
        "drive.mount('/content/drive')"
      ]
    },
    {
      "cell_type": "code",
      "execution_count": 37,
      "metadata": {
        "id": "pnXiXzH0tWFA"
      },
      "outputs": [],
      "source": [
        "dados_treinamento = ImageDataGenerator(rescale=1./255, horizontal_flip=True,rotation_range = 32, zoom_range = 0.2)"
      ]
    },
    {
      "cell_type": "code",
      "execution_count": 38,
      "metadata": {
        "colab": {
          "base_uri": "https://localhost:8080/"
        },
        "id": "jfxShBgCt_lf",
        "outputId": "d393fb74-1ab9-48d1-ac47-4c12f26580d7"
      },
      "outputs": [
        {
          "output_type": "stream",
          "name": "stdout",
          "text": [
            "Found 2670 images belonging to 2 classes.\n"
          ]
        }
      ],
      "source": [
        "dataset_treinamento = dados_treinamento.flow_from_directory('/content/drive/MyDrive/Projeto Paineis Solares SBIC/Colab com imagens completas/Paineis_Solares_v1 com CNN/Placas_solares_completas/train_set', target_size = (64,64), batch_size = 10, class_mode = 'categorical', shuffle = True)"
      ]
    },
    {
      "cell_type": "code",
      "execution_count": 39,
      "metadata": {
        "colab": {
          "base_uri": "https://localhost:8080/"
        },
        "id": "XBM4fcMNuYkW",
        "outputId": "56c93003-e0d7-4c17-ba37-cdb51e4a8285"
      },
      "outputs": [
        {
          "output_type": "execute_result",
          "data": {
            "text/plain": [
              "array([0, 0, 0, ..., 1, 1, 1], dtype=int32)"
            ]
          },
          "metadata": {},
          "execution_count": 39
        }
      ],
      "source": [
        "dataset_treinamento.classes"
      ]
    },
    {
      "cell_type": "code",
      "execution_count": 40,
      "metadata": {
        "colab": {
          "base_uri": "https://localhost:8080/"
        },
        "id": "a4pVhOJ7ugwl",
        "outputId": "22ce612d-a465-40c4-8c0c-600d8494fea9"
      },
      "outputs": [
        {
          "output_type": "execute_result",
          "data": {
            "text/plain": [
              "{'Placa_Defeituosa': 0, 'Placa_Limpa': 1}"
            ]
          },
          "metadata": {},
          "execution_count": 40
        }
      ],
      "source": [
        "dataset_treinamento.class_indices"
      ]
    },
    {
      "cell_type": "code",
      "execution_count": 41,
      "metadata": {
        "colab": {
          "base_uri": "https://localhost:8080/"
        },
        "id": "ZrmVfuE4ulx6",
        "outputId": "5096e691-97bc-42fe-83f0-aa3e546ff720"
      },
      "outputs": [
        {
          "output_type": "stream",
          "name": "stdout",
          "text": [
            "Found 777 images belonging to 2 classes.\n"
          ]
        }
      ],
      "source": [
        "dados_teste = ImageDataGenerator(rescale=1./255)\n",
        "dataset_teste = dados_teste.flow_from_directory('/content/drive/MyDrive/Projeto Paineis Solares SBIC/Colab com imagens completas/Paineis_Solares_v1 com CNN/Placas_solares_completas/test_set', target_size = (64,64), batch_size = 1, class_mode = 'categorical', shuffle = False)"
      ]
    },
    {
      "cell_type": "code",
      "execution_count": 42,
      "metadata": {
        "colab": {
          "base_uri": "https://localhost:8080/"
        },
        "id": "wz0z9bBjvAdV",
        "outputId": "1d3d88bf-f78e-4c75-cf2b-b06025ef96b8"
      },
      "outputs": [
        {
          "output_type": "stream",
          "name": "stdout",
          "text": [
            "Model: \"sequential_3\"\n",
            "_________________________________________________________________\n",
            " Layer (type)                Output Shape              Param #   \n",
            "=================================================================\n",
            " conv2d_9 (Conv2D)           (None, 62, 62, 32)        896       \n",
            "                                                                 \n",
            " max_pooling2d_9 (MaxPoolin  (None, 31, 31, 32)        0         \n",
            " g2D)                                                            \n",
            "                                                                 \n",
            " conv2d_10 (Conv2D)          (None, 29, 29, 32)        9248      \n",
            "                                                                 \n",
            " max_pooling2d_10 (MaxPooli  (None, 14, 14, 32)        0         \n",
            " ng2D)                                                           \n",
            "                                                                 \n",
            " conv2d_11 (Conv2D)          (None, 12, 12, 32)        9248      \n",
            "                                                                 \n",
            " max_pooling2d_11 (MaxPooli  (None, 6, 6, 32)          0         \n",
            " ng2D)                                                           \n",
            "                                                                 \n",
            " flatten_3 (Flatten)         (None, 1152)              0         \n",
            "                                                                 \n",
            "=================================================================\n",
            "Total params: 19392 (75.75 KB)\n",
            "Trainable params: 19392 (75.75 KB)\n",
            "Non-trainable params: 0 (0.00 Byte)\n",
            "_________________________________________________________________\n"
          ]
        }
      ],
      "source": [
        "rede_neural = Sequential()\n",
        "\n",
        "rede_neural.add(Conv2D(filters = 32, kernel_size = (3,3), activation = 'relu', input_shape=(64,64,3)))\n",
        "rede_neural.add(MaxPool2D(pool_size=(2,2)))\n",
        "\n",
        "rede_neural.add(Conv2D(filters = 32, kernel_size = (3,3), activation = 'relu'))\n",
        "rede_neural.add(MaxPool2D(pool_size=(2,2)))\n",
        "\n",
        "\n",
        "rede_neural.add(Conv2D(filters = 32, kernel_size = (3,3), activation = 'relu'))\n",
        "rede_neural.add(MaxPool2D(pool_size=(2,2)))\n",
        "\n",
        "\n",
        "rede_neural.add(Flatten())\n",
        "\n",
        "#6*6*32=1152\n",
        "#(1152+2)/2=577\n",
        "rede_neural.summary()\n",
        "\n",
        "rede_neural.add(Dense(units=577, activation = 'relu'))\n",
        "#rede_neural.add(Dropout(0.5))\n",
        "rede_neural.add(Dense(units=577, activation = 'relu'))\n",
        "\n",
        "\n",
        "\n",
        "rede_neural.add(Dense(units=2, activation = 'softmax'))\n"
      ]
    },
    {
      "cell_type": "markdown",
      "metadata": {
        "id": "BfuTOdWGd42C"
      },
      "source": []
    },
    {
      "cell_type": "code",
      "execution_count": 43,
      "metadata": {
        "id": "-30l_W1gwfuk"
      },
      "outputs": [],
      "source": [
        "rede_neural.compile(optimizer = 'Adam', loss = 'categorical_crossentropy', metrics = ['accuracy'])"
      ]
    },
    {
      "cell_type": "code",
      "execution_count": 44,
      "metadata": {
        "colab": {
          "base_uri": "https://localhost:8080/"
        },
        "id": "7HjNBMGuwqpn",
        "outputId": "f0d481ef-d9df-43c3-dbd9-9346fb4dc675"
      },
      "outputs": [
        {
          "output_type": "stream",
          "name": "stdout",
          "text": [
            "Epoch 1/150\n",
            "267/267 [==============================] - 107s 389ms/step - loss: 0.6578 - accuracy: 0.6172\n",
            "Epoch 2/150\n",
            "267/267 [==============================] - 88s 330ms/step - loss: 0.5938 - accuracy: 0.6970\n",
            "Epoch 3/150\n",
            "267/267 [==============================] - 89s 334ms/step - loss: 0.5686 - accuracy: 0.7127\n",
            "Epoch 4/150\n",
            "267/267 [==============================] - 89s 333ms/step - loss: 0.5523 - accuracy: 0.7116\n",
            "Epoch 5/150\n",
            "267/267 [==============================] - 88s 330ms/step - loss: 0.5392 - accuracy: 0.7322\n",
            "Epoch 6/150\n",
            "267/267 [==============================] - 93s 347ms/step - loss: 0.5199 - accuracy: 0.7528\n",
            "Epoch 7/150\n",
            "267/267 [==============================] - 87s 325ms/step - loss: 0.5096 - accuracy: 0.7468\n",
            "Epoch 8/150\n",
            "267/267 [==============================] - 89s 332ms/step - loss: 0.4978 - accuracy: 0.7655\n",
            "Epoch 9/150\n",
            "267/267 [==============================] - 89s 334ms/step - loss: 0.4933 - accuracy: 0.7573\n",
            "Epoch 10/150\n",
            "267/267 [==============================] - 88s 329ms/step - loss: 0.4788 - accuracy: 0.7685\n",
            "Epoch 11/150\n",
            "267/267 [==============================] - 89s 334ms/step - loss: 0.4635 - accuracy: 0.7760\n",
            "Epoch 12/150\n",
            "267/267 [==============================] - 88s 328ms/step - loss: 0.4504 - accuracy: 0.7910\n",
            "Epoch 13/150\n",
            "267/267 [==============================] - 88s 331ms/step - loss: 0.4517 - accuracy: 0.7899\n",
            "Epoch 14/150\n",
            "267/267 [==============================] - 87s 325ms/step - loss: 0.4423 - accuracy: 0.7974\n",
            "Epoch 15/150\n",
            "267/267 [==============================] - 90s 334ms/step - loss: 0.4291 - accuracy: 0.8090\n",
            "Epoch 16/150\n",
            "267/267 [==============================] - 88s 328ms/step - loss: 0.4090 - accuracy: 0.8161\n",
            "Epoch 17/150\n",
            "267/267 [==============================] - 89s 333ms/step - loss: 0.4107 - accuracy: 0.8090\n",
            "Epoch 18/150\n",
            "267/267 [==============================] - 90s 339ms/step - loss: 0.3929 - accuracy: 0.8251\n",
            "Epoch 19/150\n",
            "267/267 [==============================] - 87s 327ms/step - loss: 0.3963 - accuracy: 0.8154\n",
            "Epoch 20/150\n",
            "267/267 [==============================] - 88s 329ms/step - loss: 0.3899 - accuracy: 0.8176\n",
            "Epoch 21/150\n",
            "267/267 [==============================] - 88s 330ms/step - loss: 0.3530 - accuracy: 0.8453\n",
            "Epoch 22/150\n",
            "267/267 [==============================] - 90s 337ms/step - loss: 0.3596 - accuracy: 0.8457\n",
            "Epoch 23/150\n",
            "267/267 [==============================] - 87s 327ms/step - loss: 0.3418 - accuracy: 0.8562\n",
            "Epoch 24/150\n",
            "267/267 [==============================] - 88s 331ms/step - loss: 0.3357 - accuracy: 0.8584\n",
            "Epoch 25/150\n",
            "267/267 [==============================] - 87s 323ms/step - loss: 0.3295 - accuracy: 0.8581\n",
            "Epoch 26/150\n",
            "267/267 [==============================] - 91s 340ms/step - loss: 0.3165 - accuracy: 0.8670\n",
            "Epoch 27/150\n",
            "267/267 [==============================] - 87s 325ms/step - loss: 0.3098 - accuracy: 0.8715\n",
            "Epoch 28/150\n",
            "267/267 [==============================] - 89s 331ms/step - loss: 0.3088 - accuracy: 0.8689\n",
            "Epoch 29/150\n",
            "267/267 [==============================] - 88s 329ms/step - loss: 0.2970 - accuracy: 0.8783\n",
            "Epoch 30/150\n",
            "267/267 [==============================] - 92s 344ms/step - loss: 0.2824 - accuracy: 0.8783\n",
            "Epoch 31/150\n",
            "267/267 [==============================] - 90s 336ms/step - loss: 0.2928 - accuracy: 0.8760\n",
            "Epoch 32/150\n",
            "267/267 [==============================] - 86s 321ms/step - loss: 0.2522 - accuracy: 0.8921\n",
            "Epoch 33/150\n",
            "267/267 [==============================] - 89s 331ms/step - loss: 0.2491 - accuracy: 0.8993\n",
            "Epoch 34/150\n",
            "267/267 [==============================] - 91s 337ms/step - loss: 0.2419 - accuracy: 0.9049\n",
            "Epoch 35/150\n",
            "267/267 [==============================] - 88s 331ms/step - loss: 0.2545 - accuracy: 0.8921\n",
            "Epoch 36/150\n",
            "267/267 [==============================] - 88s 331ms/step - loss: 0.2333 - accuracy: 0.9041\n",
            "Epoch 37/150\n",
            "267/267 [==============================] - 89s 333ms/step - loss: 0.2228 - accuracy: 0.9105\n",
            "Epoch 38/150\n",
            "267/267 [==============================] - 90s 339ms/step - loss: 0.2217 - accuracy: 0.9067\n",
            "Epoch 39/150\n",
            "267/267 [==============================] - 89s 331ms/step - loss: 0.2030 - accuracy: 0.9180\n",
            "Epoch 40/150\n",
            "267/267 [==============================] - 88s 329ms/step - loss: 0.2077 - accuracy: 0.9172\n",
            "Epoch 41/150\n",
            "267/267 [==============================] - 87s 324ms/step - loss: 0.2010 - accuracy: 0.9221\n",
            "Epoch 42/150\n",
            "267/267 [==============================] - 90s 338ms/step - loss: 0.1922 - accuracy: 0.9266\n",
            "Epoch 43/150\n",
            "267/267 [==============================] - 88s 330ms/step - loss: 0.1959 - accuracy: 0.9150\n",
            "Epoch 44/150\n",
            "267/267 [==============================] - 86s 321ms/step - loss: 0.1878 - accuracy: 0.9251\n",
            "Epoch 45/150\n",
            "267/267 [==============================] - 88s 329ms/step - loss: 0.1916 - accuracy: 0.9232\n",
            "Epoch 46/150\n",
            "267/267 [==============================] - 88s 328ms/step - loss: 0.1783 - accuracy: 0.9333\n",
            "Epoch 47/150\n",
            "267/267 [==============================] - 89s 334ms/step - loss: 0.1773 - accuracy: 0.9307\n",
            "Epoch 48/150\n",
            "267/267 [==============================] - 90s 336ms/step - loss: 0.1461 - accuracy: 0.9442\n",
            "Epoch 49/150\n",
            "267/267 [==============================] - 87s 327ms/step - loss: 0.1745 - accuracy: 0.9285\n",
            "Epoch 50/150\n",
            "267/267 [==============================] - 92s 343ms/step - loss: 0.1748 - accuracy: 0.9330\n",
            "Epoch 51/150\n",
            "267/267 [==============================] - 87s 327ms/step - loss: 0.1502 - accuracy: 0.9438\n",
            "Epoch 52/150\n",
            "267/267 [==============================] - 88s 329ms/step - loss: 0.1486 - accuracy: 0.9386\n",
            "Epoch 53/150\n",
            "267/267 [==============================] - 90s 339ms/step - loss: 0.1479 - accuracy: 0.9453\n",
            "Epoch 54/150\n",
            "267/267 [==============================] - 90s 338ms/step - loss: 0.1498 - accuracy: 0.9464\n",
            "Epoch 55/150\n",
            "267/267 [==============================] - 87s 326ms/step - loss: 0.1516 - accuracy: 0.9371\n",
            "Epoch 56/150\n",
            "267/267 [==============================] - 89s 332ms/step - loss: 0.1469 - accuracy: 0.9423\n",
            "Epoch 57/150\n",
            "267/267 [==============================] - 89s 334ms/step - loss: 0.1507 - accuracy: 0.9479\n",
            "Epoch 58/150\n",
            "267/267 [==============================] - 88s 332ms/step - loss: 0.1316 - accuracy: 0.9509\n",
            "Epoch 59/150\n",
            "267/267 [==============================] - 87s 327ms/step - loss: 0.1431 - accuracy: 0.9431\n",
            "Epoch 60/150\n",
            "267/267 [==============================] - 90s 336ms/step - loss: 0.1474 - accuracy: 0.9479\n",
            "Epoch 61/150\n",
            "267/267 [==============================] - 87s 325ms/step - loss: 0.1270 - accuracy: 0.9483\n",
            "Epoch 62/150\n",
            "267/267 [==============================] - 88s 330ms/step - loss: 0.1226 - accuracy: 0.9521\n",
            "Epoch 63/150\n",
            "267/267 [==============================] - 86s 321ms/step - loss: 0.1175 - accuracy: 0.9551\n",
            "Epoch 64/150\n",
            "267/267 [==============================] - 91s 339ms/step - loss: 0.1083 - accuracy: 0.9521\n",
            "Epoch 65/150\n",
            "267/267 [==============================] - 88s 329ms/step - loss: 0.1343 - accuracy: 0.9566\n",
            "Epoch 66/150\n",
            "267/267 [==============================] - 90s 336ms/step - loss: 0.1368 - accuracy: 0.9476\n",
            "Epoch 67/150\n",
            "267/267 [==============================] - 89s 334ms/step - loss: 0.1183 - accuracy: 0.9536\n",
            "Epoch 68/150\n",
            "267/267 [==============================] - 89s 333ms/step - loss: 0.1139 - accuracy: 0.9629\n",
            "Epoch 69/150\n",
            "267/267 [==============================] - 90s 339ms/step - loss: 0.1240 - accuracy: 0.9536\n",
            "Epoch 70/150\n",
            "267/267 [==============================] - 89s 333ms/step - loss: 0.1074 - accuracy: 0.9599\n",
            "Epoch 71/150\n",
            "267/267 [==============================] - 88s 329ms/step - loss: 0.1256 - accuracy: 0.9509\n",
            "Epoch 72/150\n",
            "267/267 [==============================] - 87s 326ms/step - loss: 0.1011 - accuracy: 0.9629\n",
            "Epoch 73/150\n",
            "267/267 [==============================] - 88s 329ms/step - loss: 0.1057 - accuracy: 0.9625\n",
            "Epoch 74/150\n",
            "267/267 [==============================] - 87s 327ms/step - loss: 0.1171 - accuracy: 0.9603\n",
            "Epoch 75/150\n",
            "267/267 [==============================] - 89s 333ms/step - loss: 0.1083 - accuracy: 0.9622\n",
            "Epoch 76/150\n",
            "267/267 [==============================] - 89s 333ms/step - loss: 0.1007 - accuracy: 0.9633\n",
            "Epoch 77/150\n",
            "267/267 [==============================] - 89s 330ms/step - loss: 0.1008 - accuracy: 0.9625\n",
            "Epoch 78/150\n",
            "267/267 [==============================] - 86s 322ms/step - loss: 0.0916 - accuracy: 0.9644\n",
            "Epoch 79/150\n",
            "267/267 [==============================] - 88s 328ms/step - loss: 0.1015 - accuracy: 0.9618\n",
            "Epoch 80/150\n",
            "267/267 [==============================] - 86s 323ms/step - loss: 0.1118 - accuracy: 0.9562\n",
            "Epoch 81/150\n",
            "267/267 [==============================] - 89s 333ms/step - loss: 0.0881 - accuracy: 0.9682\n",
            "Epoch 82/150\n",
            "267/267 [==============================] - 85s 319ms/step - loss: 0.0997 - accuracy: 0.9622\n",
            "Epoch 83/150\n",
            "267/267 [==============================] - 89s 334ms/step - loss: 0.1101 - accuracy: 0.9610\n",
            "Epoch 84/150\n",
            "267/267 [==============================] - 88s 330ms/step - loss: 0.0932 - accuracy: 0.9622\n",
            "Epoch 85/150\n",
            "267/267 [==============================] - 90s 339ms/step - loss: 0.0774 - accuracy: 0.9700\n",
            "Epoch 86/150\n",
            "267/267 [==============================] - 90s 335ms/step - loss: 0.1043 - accuracy: 0.9599\n",
            "Epoch 87/150\n",
            "267/267 [==============================] - 89s 335ms/step - loss: 0.0899 - accuracy: 0.9674\n",
            "Epoch 88/150\n",
            "267/267 [==============================] - 88s 328ms/step - loss: 0.0944 - accuracy: 0.9659\n",
            "Epoch 89/150\n",
            "267/267 [==============================] - 91s 339ms/step - loss: 0.0920 - accuracy: 0.9670\n",
            "Epoch 90/150\n",
            "267/267 [==============================] - 86s 322ms/step - loss: 0.0828 - accuracy: 0.9708\n",
            "Epoch 91/150\n",
            "267/267 [==============================] - 89s 333ms/step - loss: 0.0889 - accuracy: 0.9670\n",
            "Epoch 92/150\n",
            "267/267 [==============================] - 88s 330ms/step - loss: 0.0697 - accuracy: 0.9734\n",
            "Epoch 93/150\n",
            "267/267 [==============================] - 88s 330ms/step - loss: 0.0910 - accuracy: 0.9655\n",
            "Epoch 94/150\n",
            "267/267 [==============================] - 86s 322ms/step - loss: 0.1163 - accuracy: 0.9573\n",
            "Epoch 95/150\n",
            "267/267 [==============================] - 91s 339ms/step - loss: 0.0781 - accuracy: 0.9738\n",
            "Epoch 96/150\n",
            "267/267 [==============================] - 89s 332ms/step - loss: 0.0925 - accuracy: 0.9682\n",
            "Epoch 97/150\n",
            "267/267 [==============================] - 88s 328ms/step - loss: 0.0721 - accuracy: 0.9734\n",
            "Epoch 98/150\n",
            "267/267 [==============================] - 88s 330ms/step - loss: 0.0907 - accuracy: 0.9700\n",
            "Epoch 99/150\n",
            "267/267 [==============================] - 87s 328ms/step - loss: 0.0880 - accuracy: 0.9693\n",
            "Epoch 100/150\n",
            "267/267 [==============================] - 91s 342ms/step - loss: 0.0869 - accuracy: 0.9663\n",
            "Epoch 101/150\n",
            "267/267 [==============================] - 88s 330ms/step - loss: 0.0896 - accuracy: 0.9667\n",
            "Epoch 102/150\n",
            "267/267 [==============================] - 87s 326ms/step - loss: 0.0700 - accuracy: 0.9730\n",
            "Epoch 103/150\n",
            "267/267 [==============================] - 90s 339ms/step - loss: 0.0840 - accuracy: 0.9727\n",
            "Epoch 104/150\n",
            "267/267 [==============================] - 90s 337ms/step - loss: 0.0867 - accuracy: 0.9693\n",
            "Epoch 105/150\n",
            "267/267 [==============================] - 86s 321ms/step - loss: 0.0887 - accuracy: 0.9700\n",
            "Epoch 106/150\n",
            "267/267 [==============================] - 90s 336ms/step - loss: 0.0829 - accuracy: 0.9712\n",
            "Epoch 107/150\n",
            "267/267 [==============================] - 86s 324ms/step - loss: 0.0857 - accuracy: 0.9730\n",
            "Epoch 108/150\n",
            "267/267 [==============================] - 87s 328ms/step - loss: 0.0573 - accuracy: 0.9730\n",
            "Epoch 109/150\n",
            "267/267 [==============================] - 89s 332ms/step - loss: 0.0710 - accuracy: 0.9742\n",
            "Epoch 110/150\n",
            "267/267 [==============================] - 88s 328ms/step - loss: 0.0756 - accuracy: 0.9693\n",
            "Epoch 111/150\n",
            "267/267 [==============================] - 89s 333ms/step - loss: 0.0806 - accuracy: 0.9719\n",
            "Epoch 112/150\n",
            "267/267 [==============================] - 88s 331ms/step - loss: 0.0456 - accuracy: 0.9854\n",
            "Epoch 113/150\n",
            "267/267 [==============================] - 86s 323ms/step - loss: 0.0708 - accuracy: 0.9738\n",
            "Epoch 114/150\n",
            "267/267 [==============================] - 90s 338ms/step - loss: 0.0899 - accuracy: 0.9719\n",
            "Epoch 115/150\n",
            "267/267 [==============================] - 87s 324ms/step - loss: 0.0682 - accuracy: 0.9730\n",
            "Epoch 116/150\n",
            "267/267 [==============================] - 92s 344ms/step - loss: 0.0749 - accuracy: 0.9712\n",
            "Epoch 117/150\n",
            "267/267 [==============================] - 89s 334ms/step - loss: 0.0920 - accuracy: 0.9670\n",
            "Epoch 118/150\n",
            "267/267 [==============================] - 88s 330ms/step - loss: 0.0682 - accuracy: 0.9745\n",
            "Epoch 119/150\n",
            "267/267 [==============================] - 91s 341ms/step - loss: 0.0681 - accuracy: 0.9794\n",
            "Epoch 120/150\n",
            "267/267 [==============================] - 90s 335ms/step - loss: 0.0641 - accuracy: 0.9768\n",
            "Epoch 121/150\n",
            "267/267 [==============================] - 86s 323ms/step - loss: 0.0796 - accuracy: 0.9723\n",
            "Epoch 122/150\n",
            "267/267 [==============================] - 91s 340ms/step - loss: 0.0721 - accuracy: 0.9734\n",
            "Epoch 123/150\n",
            "267/267 [==============================] - 86s 323ms/step - loss: 0.0655 - accuracy: 0.9738\n",
            "Epoch 124/150\n",
            "267/267 [==============================] - 87s 326ms/step - loss: 0.0975 - accuracy: 0.9667\n",
            "Epoch 125/150\n",
            "267/267 [==============================] - 96s 361ms/step - loss: 0.0828 - accuracy: 0.9689\n",
            "Epoch 126/150\n",
            "267/267 [==============================] - 86s 322ms/step - loss: 0.0532 - accuracy: 0.9816\n",
            "Epoch 127/150\n",
            "267/267 [==============================] - 86s 319ms/step - loss: 0.0660 - accuracy: 0.9730\n",
            "Epoch 128/150\n",
            "267/267 [==============================] - 88s 329ms/step - loss: 0.0848 - accuracy: 0.9685\n",
            "Epoch 129/150\n",
            "267/267 [==============================] - 90s 336ms/step - loss: 0.0619 - accuracy: 0.9757\n",
            "Epoch 130/150\n",
            "267/267 [==============================] - 87s 325ms/step - loss: 0.0749 - accuracy: 0.9715\n",
            "Epoch 131/150\n",
            "267/267 [==============================] - 95s 356ms/step - loss: 0.0612 - accuracy: 0.9783\n",
            "Epoch 132/150\n",
            "267/267 [==============================] - 88s 330ms/step - loss: 0.0626 - accuracy: 0.9764\n",
            "Epoch 133/150\n",
            "267/267 [==============================] - 91s 340ms/step - loss: 0.0724 - accuracy: 0.9727\n",
            "Epoch 134/150\n",
            "267/267 [==============================] - 89s 333ms/step - loss: 0.0618 - accuracy: 0.9783\n",
            "Epoch 135/150\n",
            "267/267 [==============================] - 89s 332ms/step - loss: 0.0760 - accuracy: 0.9715\n",
            "Epoch 136/150\n",
            "267/267 [==============================] - 87s 327ms/step - loss: 0.0621 - accuracy: 0.9749\n",
            "Epoch 137/150\n",
            "267/267 [==============================] - 90s 336ms/step - loss: 0.0523 - accuracy: 0.9801\n",
            "Epoch 138/150\n",
            "267/267 [==============================] - 88s 328ms/step - loss: 0.0790 - accuracy: 0.9712\n",
            "Epoch 139/150\n",
            "267/267 [==============================] - 89s 332ms/step - loss: 0.0615 - accuracy: 0.9749\n",
            "Epoch 140/150\n",
            "267/267 [==============================] - 90s 336ms/step - loss: 0.0697 - accuracy: 0.9749\n",
            "Epoch 141/150\n",
            "267/267 [==============================] - 87s 325ms/step - loss: 0.0835 - accuracy: 0.9663\n",
            "Epoch 142/150\n",
            "267/267 [==============================] - 87s 327ms/step - loss: 0.0705 - accuracy: 0.9723\n",
            "Epoch 143/150\n",
            "267/267 [==============================] - 87s 325ms/step - loss: 0.0417 - accuracy: 0.9824\n",
            "Epoch 144/150\n",
            "267/267 [==============================] - 87s 325ms/step - loss: 0.0505 - accuracy: 0.9816\n",
            "Epoch 145/150\n",
            "267/267 [==============================] - 90s 339ms/step - loss: 0.0844 - accuracy: 0.9708\n",
            "Epoch 146/150\n",
            "267/267 [==============================] - 86s 321ms/step - loss: 0.0585 - accuracy: 0.9738\n",
            "Epoch 147/150\n",
            "267/267 [==============================] - 89s 333ms/step - loss: 0.0898 - accuracy: 0.9663\n",
            "Epoch 148/150\n",
            "267/267 [==============================] - 89s 333ms/step - loss: 0.0497 - accuracy: 0.9801\n",
            "Epoch 149/150\n",
            "267/267 [==============================] - 86s 321ms/step - loss: 0.0635 - accuracy: 0.9805\n",
            "Epoch 150/150\n",
            "267/267 [==============================] - 90s 336ms/step - loss: 0.0465 - accuracy: 0.9816\n"
          ]
        }
      ],
      "source": [
        "epocas = rede_neural.fit(dataset_treinamento, epochs = 150)"
      ]
    },
    {
      "cell_type": "code",
      "execution_count": 45,
      "metadata": {
        "colab": {
          "base_uri": "https://localhost:8080/"
        },
        "id": "dfFgbVY3Stuv",
        "outputId": "033c0bab-9e17-4a44-b6af-f3089fbfc3a3"
      },
      "outputs": [
        {
          "output_type": "stream",
          "name": "stdout",
          "text": [
            "777/777 [==============================] - 319s 411ms/step\n"
          ]
        }
      ],
      "source": [
        "previsoes = rede_neural.predict(dataset_teste)"
      ]
    },
    {
      "cell_type": "code",
      "execution_count": 46,
      "metadata": {
        "colab": {
          "base_uri": "https://localhost:8080/"
        },
        "id": "FO7HouSPS2P_",
        "outputId": "3312c03f-a822-48c8-fbef-63da016ac7fc"
      },
      "outputs": [
        {
          "output_type": "execute_result",
          "data": {
            "text/plain": [
              "array([[8.9977282e-01, 1.0022721e-01],\n",
              "       [9.9999130e-01, 8.7120816e-06],\n",
              "       [9.9926215e-01, 7.3784258e-04],\n",
              "       ...,\n",
              "       [1.7241073e-05, 9.9998271e-01],\n",
              "       [1.5926700e-08, 1.0000000e+00],\n",
              "       [1.7530108e-07, 9.9999988e-01]], dtype=float32)"
            ]
          },
          "metadata": {},
          "execution_count": 46
        }
      ],
      "source": [
        "previsoes"
      ]
    },
    {
      "cell_type": "code",
      "execution_count": 47,
      "metadata": {
        "id": "7mZnHRqZTAE4"
      },
      "outputs": [],
      "source": [
        "previsoes = np.argmax(previsoes, axis=1)"
      ]
    },
    {
      "cell_type": "code",
      "execution_count": 48,
      "metadata": {
        "colab": {
          "base_uri": "https://localhost:8080/"
        },
        "id": "lz5isLtNS4Xx",
        "outputId": "cbc7de1a-e7ea-4b14-fc5f-e2059f5386ac"
      },
      "outputs": [
        {
          "output_type": "execute_result",
          "data": {
            "text/plain": [
              "0.8507078507078507"
            ]
          },
          "metadata": {},
          "execution_count": 48
        }
      ],
      "source": [
        "from sklearn.metrics import accuracy_score\n",
        "\n",
        "accuracy_score(dataset_teste.classes, previsoes)"
      ]
    },
    {
      "cell_type": "code",
      "execution_count": 49,
      "metadata": {
        "colab": {
          "base_uri": "https://localhost:8080/"
        },
        "id": "A0eqDWtVCzAP",
        "outputId": "052921b4-4f58-4b28-bd76-565a5818a6bb"
      },
      "outputs": [
        {
          "output_type": "execute_result",
          "data": {
            "text/plain": [
              "array([0, 0, 0, 0, 0, 0, 0, 0, 0, 0, 0, 0, 0, 0, 0, 0, 0, 0, 0, 0, 0, 0,\n",
              "       0, 0, 0, 0, 0, 0, 0, 0, 0, 0, 0, 0, 0, 0, 0, 0, 0, 0, 0, 0, 0, 0,\n",
              "       0, 0, 1, 0, 0, 0, 1, 0, 0, 0, 1, 0, 0, 0, 1, 0, 0, 0, 0, 0, 0, 0,\n",
              "       0, 0, 0, 0, 0, 0, 0, 0, 0, 0, 0, 0, 0, 1, 0, 0, 0, 0, 0, 0, 0, 0,\n",
              "       1, 0, 0, 0, 0, 0, 0, 0, 0, 0, 0, 0, 0, 0, 0, 0, 0, 0, 0, 0, 0, 0,\n",
              "       0, 0, 0, 0, 0, 0, 0, 0, 0, 0, 0, 1, 0, 1, 1, 1, 0, 0, 0, 0, 0, 1,\n",
              "       0, 0, 0, 1, 0, 0, 0, 0, 0, 1, 1, 1, 0, 1, 0, 0, 0, 0, 1, 1, 0, 0,\n",
              "       1, 1, 0, 0, 0, 0, 0, 0, 0, 0, 1, 0, 0, 0, 1, 0, 0, 1, 0, 0, 0, 0,\n",
              "       0, 0, 0, 0, 0, 0, 0, 0, 0, 0, 0, 1, 0, 0, 1, 0, 0, 1, 1, 1, 0, 1,\n",
              "       0, 0, 0, 0, 0, 0, 0, 1, 0, 0, 0, 0, 0, 0, 0, 0, 1, 0, 0, 0, 1, 0,\n",
              "       0, 1, 0, 0, 1, 0, 0, 1, 0, 1, 0, 0, 0, 0, 0, 0, 0, 0, 0, 1, 0, 1,\n",
              "       0, 0, 0, 1, 1, 0, 1, 0, 1, 0, 0, 0, 0, 0, 0, 0, 0, 0, 0, 1, 0, 0,\n",
              "       0, 0, 0, 1, 0, 0, 0, 0, 0, 0, 0, 0, 0, 0, 0, 0, 0, 0, 0, 0, 1, 1,\n",
              "       0, 1, 1, 0, 0, 0, 0, 1, 1, 0, 1, 0, 1, 0, 0, 0, 1, 0, 0, 1, 0, 0,\n",
              "       0, 0, 0, 0, 0, 0, 0, 0, 0, 0, 1, 0, 0, 1, 0, 0, 0, 0, 0, 0, 1, 0,\n",
              "       0, 0, 0, 0, 1, 0, 0, 0, 1, 0, 0, 0, 0, 1, 0, 0, 0, 0, 0, 0, 0, 0,\n",
              "       1, 1, 0, 0, 0, 0, 0, 0, 0, 0, 0, 1, 0, 0, 1, 0, 0, 0, 1, 0, 0, 0,\n",
              "       0, 0, 0, 0, 1, 0, 0, 0, 0, 1, 0, 0, 0, 0, 0, 0, 1, 0, 0, 0, 0, 1,\n",
              "       1, 0, 0, 1, 0, 0, 0, 0, 0, 0, 0, 0, 0, 0, 0, 0, 0, 1, 1, 0, 0, 0,\n",
              "       1, 1, 0, 1, 1, 1, 1, 1, 1, 1, 1, 1, 1, 1, 1, 1, 1, 1, 1, 1, 1, 1,\n",
              "       1, 0, 1, 1, 1, 1, 0, 1, 1, 1, 1, 1, 1, 1, 1, 1, 1, 0, 1, 1, 1, 1,\n",
              "       1, 1, 1, 1, 1, 1, 0, 0, 1, 1, 1, 1, 0, 0, 1, 0, 1, 1, 1, 1, 1, 1,\n",
              "       1, 1, 1, 1, 1, 1, 1, 1, 1, 1, 1, 1, 0, 1, 0, 1, 1, 1, 1, 1, 1, 1,\n",
              "       0, 1, 1, 1, 1, 0, 1, 1, 1, 1, 1, 1, 1, 1, 1, 1, 1, 1, 1, 1, 1, 1,\n",
              "       1, 1, 1, 0, 1, 1, 0, 1, 1, 0, 1, 1, 1, 1, 1, 1, 1, 1, 1, 1, 1, 1,\n",
              "       1, 1, 1, 1, 0, 1, 0, 1, 1, 1, 1, 1, 1, 0, 1, 1, 1, 1, 1, 1, 1, 1,\n",
              "       0, 1, 1, 1, 0, 1, 1, 1, 1, 1, 1, 1, 1, 1, 0, 1, 1, 1, 1, 1, 1, 1,\n",
              "       1, 0, 1, 1, 1, 1, 1, 1, 0, 0, 1, 1, 1, 1, 0, 1, 1, 0, 1, 1, 1, 1,\n",
              "       1, 1, 1, 1, 1, 0, 0, 1, 1, 1, 1, 1, 0, 1, 1, 1, 1, 1, 1, 1, 1, 1,\n",
              "       1, 0, 1, 1, 1, 1, 1, 0, 1, 1, 1, 0, 1, 1, 1, 1, 1, 1, 0, 1, 1, 0,\n",
              "       0, 1, 1, 1, 1, 1, 1, 1, 1, 1, 1, 1, 1, 1, 1, 1, 1, 1, 1, 1, 1, 1,\n",
              "       1, 1, 1, 1, 1, 1, 1, 1, 1, 1, 1, 1, 1, 1, 1, 1, 1, 0, 1, 1, 1, 1,\n",
              "       1, 1, 1, 1, 1, 1, 1, 1, 1, 1, 1, 1, 1, 1, 1, 1, 1, 0, 1, 1, 1, 1,\n",
              "       1, 0, 1, 1, 1, 1, 1, 1, 0, 1, 1, 1, 1, 1, 1, 1, 1, 0, 1, 1, 1, 0,\n",
              "       1, 1, 1, 1, 1, 1, 1, 1, 1, 1, 1, 1, 1, 1, 1, 1, 1, 1, 1, 1, 1, 1,\n",
              "       1, 1, 1, 1, 1, 1, 1])"
            ]
          },
          "metadata": {},
          "execution_count": 49
        }
      ],
      "source": [
        "previsoes"
      ]
    },
    {
      "cell_type": "code",
      "execution_count": 50,
      "metadata": {
        "colab": {
          "base_uri": "https://localhost:8080/"
        },
        "id": "fc8lWewF6icW",
        "outputId": "fa64e4b9-ba74-449b-b780-79f6ce44c8d2"
      },
      "outputs": [
        {
          "output_type": "execute_result",
          "data": {
            "text/plain": [
              "array([[346,  75],\n",
              "       [ 41, 315]])"
            ]
          },
          "metadata": {},
          "execution_count": 50
        }
      ],
      "source": [
        "from sklearn.metrics import confusion_matrix\n",
        "cm = confusion_matrix(dataset_teste.classes, previsoes)\n",
        "cm"
      ]
    },
    {
      "cell_type": "code",
      "execution_count": 51,
      "metadata": {
        "colab": {
          "base_uri": "https://localhost:8080/",
          "height": 430
        },
        "id": "1g18KtSd7IP0",
        "outputId": "79b0515b-65bf-4d5c-d6ec-ad387407feb4"
      },
      "outputs": [
        {
          "output_type": "display_data",
          "data": {
            "text/plain": [
              "<Figure size 640x480 with 2 Axes>"
            ],
            "image/png": "[encoded data removed]"
          },
          "metadata": {}
        }
      ],
      "source": [
        "sns.heatmap(cm, annot=True);"
      ]
    },
    {
      "cell_type": "code",
      "execution_count": 52,
      "metadata": {
        "colab": {
          "base_uri": "https://localhost:8080/"
        },
        "id": "7S8Nt5tF7NLC",
        "outputId": "60925204-d6d5-42ae-e3fc-dab662da143c"
      },
      "outputs": [
        {
          "output_type": "stream",
          "name": "stdout",
          "text": [
            "              precision    recall  f1-score   support\n",
            "\n",
            "           0       0.89      0.82      0.86       421\n",
            "           1       0.81      0.88      0.84       356\n",
            "\n",
            "    accuracy                           0.85       777\n",
            "   macro avg       0.85      0.85      0.85       777\n",
            "weighted avg       0.85      0.85      0.85       777\n",
            "\n"
          ]
        }
      ],
      "source": [
        "from sklearn.metrics import classification_report\n",
        "print(classification_report(dataset_teste.classes, previsoes))"
      ]
    },
    {
      "cell_type": "code",
      "execution_count": 1,
      "metadata": {
        "colab": {
          "base_uri": "https://localhost:8080/",
          "height": 217
        },
        "id": "FjUH3Vty7Wxv",
        "outputId": "1e1cbab6-b499-4531-fa66-f17cb4fcace5"
      },
      "outputs": [
        {
          "output_type": "error",
          "ename": "NameError",
          "evalue": "ignored",
          "traceback": [
            "\u001b[0;31m---------------------------------------------------------------------------\u001b[0m",
            "\u001b[0;31mNameError\u001b[0m                                 Traceback (most recent call last)",
            "\u001b[0;32m<ipython-input-1-e87ea9bee0c2>\u001b[0m in \u001b[0;36m<cell line: 1>\u001b[0;34m()\u001b[0m\n\u001b[0;32m----> 1\u001b[0;31m \u001b[0mmodel_json\u001b[0m \u001b[0;34m=\u001b[0m \u001b[0mrede_neural\u001b[0m\u001b[0;34m.\u001b[0m\u001b[0mto_json\u001b[0m\u001b[0;34m(\u001b[0m\u001b[0;34m)\u001b[0m\u001b[0;34m\u001b[0m\u001b[0;34m\u001b[0m\u001b[0m\n\u001b[0m\u001b[1;32m      2\u001b[0m \u001b[0;32mwith\u001b[0m \u001b[0mopen\u001b[0m\u001b[0;34m(\u001b[0m\u001b[0;34m'network.json'\u001b[0m\u001b[0;34m,\u001b[0m\u001b[0;34m'w'\u001b[0m\u001b[0;34m)\u001b[0m \u001b[0;32mas\u001b[0m \u001b[0mjson_file\u001b[0m\u001b[0;34m:\u001b[0m\u001b[0;34m\u001b[0m\u001b[0;34m\u001b[0m\u001b[0m\n\u001b[1;32m      3\u001b[0m   \u001b[0mjson_file\u001b[0m\u001b[0;34m.\u001b[0m\u001b[0mwrite\u001b[0m\u001b[0;34m(\u001b[0m\u001b[0mmodel_json\u001b[0m\u001b[0;34m)\u001b[0m\u001b[0;34m\u001b[0m\u001b[0;34m\u001b[0m\u001b[0m\n",
            "\u001b[0;31mNameError\u001b[0m: name 'rede_neural' is not defined"
          ]
        }
      ],
      "source": [
        "model_json = rede_neural.to_json()\n",
        "with open('network.json','w') as json_file:\n",
        "  json_file.write(model_json)"
      ]
    },
    {
      "cell_type": "code",
      "execution_count": null,
      "metadata": {
        "id": "r0FnUmLy7coS"
      },
      "outputs": [],
      "source": [
        "from keras.models import save_model\n",
        "network_saved = save_model(rede_neural, '/content/drive/MyDrive/Projeto Paineis Solares SBIC/Colab com imagens completas')"
      ]
    },
    {
      "cell_type": "code",
      "execution_count": 54,
      "metadata": {
        "id": "dm0APDo-7eZ0"
      },
      "outputs": [],
      "source": []
    }
  ],
  "metadata": {
    "colab": {
      "provenance": []
    },
    "kernelspec": {
      "display_name": "Python 3",
      "name": "python3"
    },
    "language_info": {
      "name": "python"
    }
  },
  "nbformat": 4,
  "nbformat_minor": 0
}